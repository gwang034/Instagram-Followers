{
 "cells": [
  {
   "cell_type": "markdown",
   "metadata": {},
   "source": [
    "# 🎀 IG Followers 🎀\n",
    "\n",
    "Who do you follow on Instagram that doesn't follow you back? Don't be a fan xoxo\n",
    "\n",
    "This script is a fast (and safe!) way to check who doesn't follow you back on IG without potentially putting your account at risk to a bitcoin hacker 😍\n",
    "\n",
    "**Download your Connection Data using the following steps:**\n",
    "\n",
    "1. Go to your Instagram profile and click the three lines in the upper right hand corner (mobile) or bottom left hand corner (desktop). Select \"Settings and Privacy\" from the menu.\n",
    "2. Select \"Accounts Center\" at the top.\n",
    "3. Under Account settings, select \"Your information and permissions\" and tap \"Download your information.\"\n",
    "4. Request a download. For the purposes of this script, you only need to choose \"Select types of information\" > \"Followers and following\"\n",
    "5. Once you are done selecting the information you would like, you will see the \"Select the options\" page. Provide an email for your data to be delivered to. Make sure the data is delivered in JSON format. Change the Date range to All time to see all of your followers and following (but beware this may make your download take longer if you have other types of data selected as well).\n",
    "7. Once the data arrives, run this notebook to see who doesn't follow you back!"
   ]
  },
  {
   "cell_type": "code",
   "execution_count": 4,
   "metadata": {},
   "outputs": [],
   "source": [
    "# CHANGE THIS TO MATCH THE PATH TO YOUR DATA!\n",
    "\n",
    "following_path = '/Users/gracewang/Documents/Personal Projects/connections/followers_and_following/following.json' # the path to your following json file\n",
    "followers_path = '/Users/gracewang/Documents/Personal Projects/connections/followers_and_following/followers_1.json' # the path to your followers json file"
   ]
  },
  {
   "cell_type": "code",
   "execution_count": 5,
   "metadata": {},
   "outputs": [],
   "source": [
    "import json\n",
    "\n",
    "def follow_back(following_path, followers_path):\n",
    "    \"\"\" \n",
    "    Function that snitches on who doesn't follow you back\n",
    "\n",
    "    Inputs:\n",
    "        - following_path: the path to your following json file\n",
    "        - followers_path: the path to your followers json file\n",
    "    \n",
    "    Outputs:\n",
    "        - unfollow: people you should unfollow lol (they don't follow u back)\n",
    "    \"\"\"\n",
    "    following = json.load(open(following_path))['relationships_following']\n",
    "    followers = json.load(open(followers_path))\n",
    "\n",
    "    following_lst = []\n",
    "    for i_follow in following:\n",
    "        following_lst.append(i_follow['string_list_data'][0]['value'])\n",
    "\n",
    "    followers_lst = []\n",
    "    for my_followers in followers:\n",
    "        followers_lst.append(my_followers['string_list_data'][0]['value'])\n",
    "\n",
    "    unfollow = [person for person in following_lst if person not in followers_lst]\n",
    "    \n",
    "    return unfollow"
   ]
  },
  {
   "cell_type": "code",
   "execution_count": null,
   "metadata": {},
   "outputs": [],
   "source": [
    "unfollow = follow_back(following_path, followers_path)\n",
    "unfollow"
   ]
  },
  {
   "cell_type": "code",
   "execution_count": 7,
   "metadata": {},
   "outputs": [],
   "source": [
    "# save it as a spreadsheet if you want\n",
    "import pandas as pd\n",
    "unfollow_file = pd.Series(unfollow)\n",
    "unfollow_file.to_csv('unfollow.csv')"
   ]
  }
 ],
 "metadata": {
  "kernelspec": {
   "display_name": "Python 3",
   "language": "python",
   "name": "python3"
  },
  "language_info": {
   "codemirror_mode": {
    "name": "ipython",
    "version": 3
   },
   "file_extension": ".py",
   "mimetype": "text/x-python",
   "name": "python",
   "nbconvert_exporter": "python",
   "pygments_lexer": "ipython3",
   "version": "3.11.4"
  }
 },
 "nbformat": 4,
 "nbformat_minor": 2
}
